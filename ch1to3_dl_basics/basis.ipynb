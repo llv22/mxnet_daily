{
 "cells": [
  {
   "cell_type": "markdown",
   "metadata": {},
   "source": [
    "## Global setting"
   ]
  },
  {
   "cell_type": "code",
   "execution_count": null,
   "metadata": {},
   "outputs": [],
   "source": [
    "utility_path = \"../../gluon-tutorials-zh\""
   ]
  },
  {
   "cell_type": "markdown",
   "metadata": {},
   "source": [
    "## 1. ndarray"
   ]
  },
  {
   "cell_type": "code",
   "execution_count": 1,
   "metadata": {},
   "outputs": [],
   "source": [
    "from mxnet import nd"
   ]
  },
  {
   "cell_type": "code",
   "execution_count": 2,
   "metadata": {},
   "outputs": [
    {
     "data": {
      "text/plain": [
       "\n",
       "[ 0.  1.  2.  3.  4.  5.  6.  7.  8.  9. 10. 11.]\n",
       "<NDArray 12 @cpu(0)>"
      ]
     },
     "execution_count": 2,
     "metadata": {},
     "output_type": "execute_result"
    }
   ],
   "source": [
    "# row vector\n",
    "x = nd.arange(12)\n",
    "x"
   ]
  },
  {
   "cell_type": "code",
   "execution_count": 3,
   "metadata": {},
   "outputs": [
    {
     "data": {
      "text/plain": [
       "(\n",
       " [[0.]\n",
       "  [1.]\n",
       "  [2.]]\n",
       " <NDArray 3x1 @cpu(0)>, \n",
       " [[0. 1.]]\n",
       " <NDArray 1x2 @cpu(0)>)"
      ]
     },
     "execution_count": 3,
     "metadata": {},
     "output_type": "execute_result"
    }
   ],
   "source": [
    "# boardcasting\n",
    "a = nd.arange(3).reshape((3, 1))\n",
    "b = nd.arange(2).reshape((1, 2))\n",
    "a, b"
   ]
  },
  {
   "cell_type": "code",
   "execution_count": 4,
   "metadata": {},
   "outputs": [
    {
     "data": {
      "text/plain": [
       "\n",
       "[[0. 1.]\n",
       " [1. 2.]\n",
       " [2. 3.]]\n",
       "<NDArray 3x2 @cpu(0)>"
      ]
     },
     "execution_count": 4,
     "metadata": {},
     "output_type": "execute_result"
    }
   ],
   "source": [
    "a + b"
   ]
  },
  {
   "cell_type": "markdown",
   "metadata": {},
   "source": [
    "## 2. autogradient"
   ]
  },
  {
   "cell_type": "code",
   "execution_count": 5,
   "metadata": {},
   "outputs": [],
   "source": [
    "from mxnet import autograd"
   ]
  },
  {
   "cell_type": "code",
   "execution_count": 6,
   "metadata": {},
   "outputs": [],
   "source": [
    "x = nd.arange(4).reshape((4, 1))\n",
    "# using attach_grade to allocate memory for gradient\n",
    "x.attach_grad()\n",
    "\n",
    "with autograd.record():\n",
    "    y = 2 * nd.dot(x.T, x)\n",
    "\n",
    "y.backward()"
   ]
  },
  {
   "cell_type": "code",
   "execution_count": 7,
   "metadata": {},
   "outputs": [
    {
     "data": {
      "text/plain": [
       "(\n",
       " [[ 0.]\n",
       "  [ 4.]\n",
       "  [ 8.]\n",
       "  [12.]]\n",
       " <NDArray 4x1 @cpu(0)>, \n",
       " [[1.]\n",
       "  [1.]\n",
       "  [1.]\n",
       "  [1.]]\n",
       " <NDArray 4x1 @cpu(0)>)"
      ]
     },
     "execution_count": 7,
     "metadata": {},
     "output_type": "execute_result"
    }
   ],
   "source": [
    "x.grad, x.grad == 4 * x"
   ]
  },
  {
   "cell_type": "code",
   "execution_count": 8,
   "metadata": {},
   "outputs": [],
   "source": [
    "def f(a):\n",
    "    \"\"\"\n",
    "    if with python conditional and loop control, we can also calculate gradient\n",
    "    \"\"\"\n",
    "    b = a * 2\n",
    "    while b.norm().asscalar() < 1000:\n",
    "        b = b * 2\n",
    "    if b.sum().asscalar() > 0:\n",
    "        c = b\n",
    "    else:\n",
    "        c = 100 * b\n",
    "    return c"
   ]
  },
  {
   "cell_type": "code",
   "execution_count": 9,
   "metadata": {},
   "outputs": [],
   "source": [
    "a = nd.random.normal(shape=1)\n",
    "a.attach_grad()\n",
    "with autograd.record():\n",
    "    c = f(a)\n",
    "c.backward()"
   ]
  },
  {
   "cell_type": "code",
   "execution_count": 10,
   "metadata": {},
   "outputs": [
    {
     "data": {
      "text/plain": [
       "\n",
       "[1.]\n",
       "<NDArray 1 @cpu(0)>"
      ]
     },
     "execution_count": 10,
     "metadata": {},
     "output_type": "execute_result"
    }
   ],
   "source": [
    "a.grad == c / a"
   ]
  },
  {
   "cell_type": "code",
   "execution_count": 11,
   "metadata": {},
   "outputs": [],
   "source": [
    "a = nd.random.normal(shape=(2, 2))\n",
    "a.attach_grad()\n",
    "with autograd.record():\n",
    "    c = f(a)\n",
    "c.backward()"
   ]
  },
  {
   "cell_type": "code",
   "execution_count": 12,
   "metadata": {},
   "outputs": [
    {
     "data": {
      "text/plain": [
       "\n",
       "[[1. 1.]\n",
       " [1. 1.]]\n",
       "<NDArray 2x2 @cpu(0)>"
      ]
     },
     "execution_count": 12,
     "metadata": {},
     "output_type": "execute_result"
    }
   ],
   "source": [
    "a.grad == c / a"
   ]
  },
  {
   "cell_type": "code",
   "execution_count": 13,
   "metadata": {},
   "outputs": [
    {
     "name": "stdout",
     "output_type": "stream",
     "text": [
      "['CFUNCTYPE', 'Function', 'Lock', 'MXCallbackList', 'NDArray', 'NDArrayHandle', 'POINTER', 'Symbol', 'SymbolHandle', '_GRAD_REQ_MAP', '_LIB', '_RecordingStateScope', '__builtins__', '__cached__', '__doc__', '__file__', '__loader__', '__name__', '__package__', '__spec__', '_ndarray_cls', '_parse_head', 'absolute_import', 'array', 'backward', 'c_array', 'c_array_buf', 'c_handle_array', 'c_int', 'c_void_p', 'cast', 'check_call', 'ctypes', 'division', 'get_symbol', 'grad', 'is_recording', 'is_training', 'mark_variables', 'mx_uint', 'pause', 'predict_mode', 'record', 'set_recording', 'set_training', 'string_types', 'traceback', 'train_mode']\n"
     ]
    }
   ],
   "source": [
    "# print autograd\n",
    "print(dir(autograd))"
   ]
  },
  {
   "cell_type": "markdown",
   "metadata": {},
   "source": [
    "## 3. Linear Regression by Manual GD\n",
    "\n",
    "page 37-42"
   ]
  },
  {
   "cell_type": "code",
   "execution_count": 14,
   "metadata": {},
   "outputs": [],
   "source": [
    "from IPython.display import set_matplotlib_formats\n",
    "from matplotlib import pyplot as plt\n",
    "from mxnet import autograd, nd\n",
    "import random\n",
    "\n",
    "%matplotlib inline"
   ]
  },
  {
   "cell_type": "code",
   "execution_count": 15,
   "metadata": {},
   "outputs": [],
   "source": [
    "# generate dataset\n",
    "num_inputs = 2\n",
    "num_examples = 1000\n",
    "true_w = [2, -3.4]\n",
    "true_b = 4.2\n",
    "features = nd.random.normal(scale=1, shape=(num_examples, num_inputs))\n",
    "labels = true_w[0] * features[:, 0] + true_w[1] * features[:, 1] + true_b\n",
    "# bug: labels += gaussion noise with scale = 0.01, as 0.001 is too small, almost cost will be zero => 0.01 will better\n",
    "labels += nd.random.normal(scale=0.01, shape=labels.shape)"
   ]
  },
  {
   "cell_type": "code",
   "execution_count": 16,
   "metadata": {},
   "outputs": [
    {
     "data": {
      "text/plain": [
       "(\n",
       " [ 1.5580711 -0.5459446]\n",
       " <NDArray 2 @cpu(0)>, \n",
       " [9.173812]\n",
       " <NDArray 1 @cpu(0)>)"
      ]
     },
     "execution_count": 16,
     "metadata": {},
     "output_type": "execute_result"
    }
   ],
   "source": [
    "features[0], labels[0]"
   ]
  },
  {
   "cell_type": "code",
   "execution_count": 17,
   "metadata": {},
   "outputs": [
    {
     "data": {
      "text/plain": [
       "<matplotlib.collections.PathCollection at 0x1a57e235f8>"
      ]
     },
     "execution_count": 17,
     "metadata": {},
     "output_type": "execute_result"
    },
    {
     "data": {
      "image/png": "[encoded data removed]",
      "text/plain": [
       "<Figure size 252x180 with 1 Axes>"
      ]
     },
     "metadata": {
      "image/png": {
       "height": 168,
       "width": 239
      }
     },
     "output_type": "display_data"
    }
   ],
   "source": [
    "def set_figsize(figsize=(3.5, 2.5)):\n",
    "    \"\"\"\n",
    "    analysis the linear relationship for different dimension.\n",
    "    \"\"\"\n",
    "    # set retina\n",
    "    set_matplotlib_formats('retina')\n",
    "    # set size of graphic\n",
    "    plt.rcParams['figure.figsize'] = figsize\n",
    "\n",
    "set_figsize()\n",
    "# third parameter is c : color, sequence, or sequence of color, optional, default: ‘b’\n",
    "plt.scatter(features[:, 1].asnumpy(), labels.asnumpy(), 1)"
   ]
  },
  {
   "cell_type": "code",
   "execution_count": 18,
   "metadata": {},
   "outputs": [
    {
     "data": {
      "text/plain": [
       "<matplotlib.collections.PathCollection at 0x1a57f48eb8>"
      ]
     },
     "execution_count": 18,
     "metadata": {},
     "output_type": "execute_result"
    },
    {
     "data": {
      "image/png": "[encoded data removed]",
      "text/plain": [
       "<Figure size 252x180 with 1 Axes>"
      ]
     },
     "metadata": {
      "image/png": {
       "height": 168,
       "width": 239
      }
     },
     "output_type": "display_data"
    }
   ],
   "source": [
    "plt.scatter(features[:, 0].asnumpy(), labels.asnumpy(), 1)"
   ]
  },
  {
   "cell_type": "code",
   "execution_count": 19,
   "metadata": {},
   "outputs": [],
   "source": [
    "batch_size = 10\n",
    "def data_iter(batch_size, features, labels):\n",
    "    num_examples = len(features)\n",
    "    indices = list(range(num_examples))\n",
    "    # read sample randomly\n",
    "    random.shuffle(indices)\n",
    "    for i in range(0, num_examples, batch_size):\n",
    "        j = nd.array(indices[i: min(i + batch_size, num_examples)])\n",
    "        # take function to return elements\n",
    "        yield features.take(j), labels.take(j)"
   ]
  },
  {
   "cell_type": "code",
   "execution_count": 20,
   "metadata": {},
   "outputs": [
    {
     "name": "stdout",
     "output_type": "stream",
     "text": [
      "\n",
      "[[-2.1175049e-01  2.1140845e-01]\n",
      " [ 4.4746986e-01 -4.9543688e-01]\n",
      " [-5.4200366e-04 -4.7270110e-01]\n",
      " [-5.7585001e-01 -3.8465682e-01]\n",
      " [ 5.3989464e-01 -8.0637801e-01]\n",
      " [-1.4543211e-01  2.2957022e-01]\n",
      " [ 1.3267368e+00 -8.4065247e-01]\n",
      " [ 1.3428219e-01 -1.2451450e+00]\n",
      " [-5.8612341e-01  1.4040940e+00]\n",
      " [-1.5107599e+00 -9.6534061e-01]]\n",
      "<NDArray 10x2 @cpu(0)> \n",
      "[ 3.0574906  6.7833433  5.807947   4.355543   8.017159   3.1254084\n",
      "  9.71534    8.710172  -1.7478912  4.4478703]\n",
      "<NDArray 10 @cpu(0)>\n"
     ]
    }
   ],
   "source": [
    "for X, y in data_iter(batch_size, features, labels):\n",
    "    print(X, y)\n",
    "    break"
   ]
  },
  {
   "cell_type": "code",
   "execution_count": 21,
   "metadata": {},
   "outputs": [],
   "source": [
    "# initialize w, b\n",
    "w = nd.random.normal(scale=0.01, shape=(num_inputs, 1))\n",
    "b = nd.zeros(shape=(1, ))\n",
    "params = [w, b]\n",
    "# for params must attach for gradient descent\n",
    "for param in params:\n",
    "    param.attach_grad()"
   ]
  },
  {
   "cell_type": "code",
   "execution_count": 22,
   "metadata": {},
   "outputs": [],
   "source": [
    "def linreg(X, w, b):\n",
    "    return nd.dot(X, w) + b"
   ]
  },
  {
   "cell_type": "code",
   "execution_count": 23,
   "metadata": {},
   "outputs": [],
   "source": [
    "def squared_loss(y_hat, y):\n",
    "    return (y_hat - y.reshape(y_hat.shape)) ** 2 / 2"
   ]
  },
  {
   "cell_type": "code",
   "execution_count": 24,
   "metadata": {},
   "outputs": [],
   "source": [
    "def sgd(params, lr, batch_size):\n",
    "    for param in params:\n",
    "        param[:] = param - lr * param.grad / batch_size"
   ]
  },
  {
   "cell_type": "markdown",
   "metadata": {},
   "source": [
    "### issue: why loss doesn't change"
   ]
  },
  {
   "cell_type": "code",
   "execution_count": 25,
   "metadata": {
    "scrolled": true
   },
   "outputs": [
    {
     "name": "stdout",
     "output_type": "stream",
     "text": [
      "epoch 1, loss: 0.035000\n",
      "epoch 2, loss: 0.000125\n",
      "epoch 3, loss: 0.000048\n",
      "epoch 4, loss: 0.000048\n",
      "epoch 5, loss: 0.000048\n",
      "epoch 6, loss: 0.000048\n",
      "epoch 7, loss: 0.000048\n",
      "epoch 8, loss: 0.000048\n",
      "epoch 9, loss: 0.000048\n",
      "epoch 10, loss: 0.000048\n"
     ]
    }
   ],
   "source": [
    "lr = 0.03\n",
    "num_epochs = 10\n",
    "net = linreg\n",
    "loss = squared_loss\n",
    "\n",
    "# training for num_epoches\n",
    "for epoch in range(1, num_epochs + 1):\n",
    "    #  using all samples in a batch\n",
    "    for X, y in data_iter(batch_size, features, labels):\n",
    "        with autograd.record():\n",
    "            #  l is loss of (X, y) for a batch\n",
    "            l = loss(net(X, w, b), y)\n",
    "        # parameter gradient desent for batch\n",
    "        l.backward()\n",
    "        # using sgd for update parameters\n",
    "        sgd([w, b], lr, batch_size)\n",
    "    print('epoch %d, loss: %f' % (epoch, loss(net(features, w, b), labels).mean().asnumpy()))"
   ]
  },
  {
   "cell_type": "code",
   "execution_count": 26,
   "metadata": {},
   "outputs": [
    {
     "data": {
      "text/plain": [
       "([2, -3.4], \n",
       " [[ 1.9996344]\n",
       "  [-3.4000218]]\n",
       " <NDArray 2x1 @cpu(0)>)"
      ]
     },
     "execution_count": 26,
     "metadata": {},
     "output_type": "execute_result"
    }
   ],
   "source": [
    "true_w, w"
   ]
  },
  {
   "cell_type": "code",
   "execution_count": 27,
   "metadata": {},
   "outputs": [
    {
     "data": {
      "text/plain": [
       "(4.2, \n",
       " [4.2004504]\n",
       " <NDArray 1 @cpu(0)>)"
      ]
     },
     "execution_count": 27,
     "metadata": {},
     "output_type": "execute_result"
    }
   ],
   "source": [
    "true_b, b"
   ]
  },
  {
   "cell_type": "markdown",
   "metadata": {},
   "source": [
    "## 4. Linear Regression by Gluon\n",
    "\n",
    "page 42-46"
   ]
  },
  {
   "cell_type": "code",
   "execution_count": 28,
   "metadata": {},
   "outputs": [],
   "source": [
    "# generate dataset\n",
    "num_inputs = 2\n",
    "num_examples = 1000\n",
    "true_w = [2, -3.4]\n",
    "true_b = 4.2\n",
    "features = nd.random.normal(scale=1, shape=(num_examples, num_inputs))\n",
    "labels = true_w[0] * features[:, 0] + true_w[1] * features[:, 1] + true_b\n",
    "# bug: labels += gaussion noise with scale = 0.01, as 0.001 is too small, almost cost will be zero => 0.01 will better\n",
    "labels += nd.random.normal(scale=0.01, shape=labels.shape)"
   ]
  },
  {
   "cell_type": "code",
   "execution_count": 29,
   "metadata": {},
   "outputs": [],
   "source": [
    "from mxnet.gluon import data as gdata"
   ]
  },
  {
   "cell_type": "code",
   "execution_count": 30,
   "metadata": {},
   "outputs": [],
   "source": [
    "batch_size = 10\n",
    "dataset = gdata.ArrayDataset(features, labels)\n",
    "data_iter = gdata.DataLoader(dataset, batch_size, shuffle=True)"
   ]
  },
  {
   "cell_type": "code",
   "execution_count": 31,
   "metadata": {},
   "outputs": [
    {
     "name": "stdout",
     "output_type": "stream",
     "text": [
      "\n",
      "[[-0.40453264  0.32788628]\n",
      " [-1.2758838  -0.31069466]\n",
      " [ 0.91883534 -1.4732423 ]\n",
      " [ 0.47429883  0.3413491 ]\n",
      " [ 0.75089306 -0.4227889 ]\n",
      " [ 0.7093973   0.02881485]\n",
      " [-0.06389883 -0.48711798]\n",
      " [ 0.61196524  1.9691626 ]\n",
      " [ 0.7128073  -1.7106482 ]\n",
      " [ 0.9947611   2.06845   ]]\n",
      "<NDArray 10x2 @cpu(0)> \n",
      "[ 2.2694504  2.6947422 11.062686   3.9993474  7.13204    5.52188\n",
      "  5.733162  -1.2743708 11.450212  -0.8579038]\n",
      "<NDArray 10 @cpu(0)>\n"
     ]
    }
   ],
   "source": [
    "for X, y in data_iter:\n",
    "    print(X, y)\n",
    "    break"
   ]
  },
  {
   "cell_type": "code",
   "execution_count": 32,
   "metadata": {},
   "outputs": [],
   "source": [
    "from mxnet.gluon import nn\n",
    "from mxnet import init\n",
    "from mxnet import gluon\n",
    "from mxnet.gluon import loss as gloss"
   ]
  },
  {
   "cell_type": "code",
   "execution_count": 33,
   "metadata": {},
   "outputs": [],
   "source": [
    "net = nn.Sequential()\n",
    "net.add(nn.Dense(1))\n",
    "net.initialize(init.Normal(sigma=0.01))\n",
    "loss = gloss.L2Loss()\n",
    "trainer = gluon.Trainer(net.collect_params(), 'sgd', {'learning_rate': 0.03})"
   ]
  },
  {
   "cell_type": "code",
   "execution_count": 34,
   "metadata": {
    "scrolled": true
   },
   "outputs": [
    {
     "name": "stdout",
     "output_type": "stream",
     "text": [
      "epoch 1, loss = 0.058638\n",
      "epoch 2, loss = 0.000280\n",
      "epoch 3, loss = 0.000050\n",
      "epoch 4, loss = 0.000049\n",
      "epoch 5, loss = 0.000049\n",
      "epoch 6, loss = 0.000049\n",
      "epoch 7, loss = 0.000049\n",
      "epoch 8, loss = 0.000049\n",
      "epoch 9, loss = 0.000049\n",
      "epoch 10, loss = 0.000049\n"
     ]
    }
   ],
   "source": [
    "num_epochs = 10\n",
    "for epoch in range(1, num_epochs + 1):\n",
    "    for X, y in data_iter:\n",
    "        with autograd.record():\n",
    "            l = loss(net(X), y)\n",
    "        l.backward()\n",
    "        trainer.step(batch_size)\n",
    "    print(\"epoch %d, loss = %f\" % (epoch, loss(net(features), labels).mean().asnumpy()))"
   ]
  },
  {
   "cell_type": "markdown",
   "metadata": {},
   "source": [
    "### Exercise 3.3.9\n",
    "- Whey use mean() and step(1)?"
   ]
  },
  {
   "cell_type": "code",
   "execution_count": 35,
   "metadata": {},
   "outputs": [],
   "source": [
    "net.initialize(init.Normal(sigma=0.01), force_reinit=True)\n",
    "loss = gloss.L2Loss()\n",
    "trainer = gluon.Trainer(net.collect_params(), 'sgd', {'learning_rate': 0.03})"
   ]
  },
  {
   "cell_type": "code",
   "execution_count": 36,
   "metadata": {},
   "outputs": [
    {
     "name": "stdout",
     "output_type": "stream",
     "text": [
      "epoch 1, loss = 0.059004\n",
      "epoch 2, loss = 0.000285\n",
      "epoch 3, loss = 0.000050\n",
      "epoch 4, loss = 0.000049\n",
      "epoch 5, loss = 0.000049\n",
      "epoch 6, loss = 0.000049\n",
      "epoch 7, loss = 0.000049\n",
      "epoch 8, loss = 0.000049\n",
      "epoch 9, loss = 0.000049\n",
      "epoch 10, loss = 0.000049\n"
     ]
    }
   ],
   "source": [
    "num_epochs = 10\n",
    "for epoch in range(1, num_epochs + 1):\n",
    "    for X, y in data_iter:\n",
    "        with autograd.record():\n",
    "            l = loss(net(X), y).mean()\n",
    "        l.backward()\n",
    "        trainer.step(1)\n",
    "#         batch_size for averaging loss in batch, so step(1) is only for already mean() for batch_size\n",
    "#         trainer.step(batch_size)\n",
    "    print(\"epoch %d, loss = %f\" % (epoch, loss(net(features), labels).mean().asnumpy()))"
   ]
  },
  {
   "cell_type": "code",
   "execution_count": 37,
   "metadata": {},
   "outputs": [
    {
     "data": {
      "text/plain": [
       "([2, -3.4], \n",
       " [[ 2.000264  -3.3995662]]\n",
       " <NDArray 1x2 @cpu(0)>)"
      ]
     },
     "execution_count": 37,
     "metadata": {},
     "output_type": "execute_result"
    }
   ],
   "source": [
    "dense = net[0]\n",
    "true_w, dense.weight.data()"
   ]
  },
  {
   "cell_type": "code",
   "execution_count": 38,
   "metadata": {},
   "outputs": [
    {
     "data": {
      "text/plain": [
       "(4.2, \n",
       " [4.1994996]\n",
       " <NDArray 1 @cpu(0)>)"
      ]
     },
     "execution_count": 38,
     "metadata": {},
     "output_type": "execute_result"
    }
   ],
   "source": [
    "true_b, dense.bias.data()"
   ]
  },
  {
   "cell_type": "markdown",
   "metadata": {},
   "source": [
    "## 5. Softmax Regression by Manual Code\n",
    "\n",
    "page 51-58"
   ]
  },
  {
   "cell_type": "code",
   "execution_count": 39,
   "metadata": {},
   "outputs": [],
   "source": [
    "import sys\n",
    "# discussion result: https://discuss.gluon.ai/t/topic/6504\n",
    "# library path https://github.com/mli/gluon-tutorials-zh/tree/master/gluonbook\n",
    "sys.path.append(utility_path)\n",
    "\n",
    "import gluonbook as gb\n",
    "from mxnet import autograd, nd\n",
    "from mxnet.gluon import data as gdata\n",
    "import sys"
   ]
  },
  {
   "cell_type": "code",
   "execution_count": 40,
   "metadata": {},
   "outputs": [],
   "source": [
    "# DATA SOURCE for training\n",
    "mnist_train = gdata.vision.FashionMNIST(train=True)\n",
    "mnist_test = gdata.vision.FashionMNIST(train=False)"
   ]
  },
  {
   "cell_type": "code",
   "execution_count": 41,
   "metadata": {},
   "outputs": [
    {
     "data": {
      "text/plain": [
       "((28, 28, 1), numpy.uint8)"
      ]
     },
     "execution_count": 41,
     "metadata": {},
     "output_type": "execute_result"
    }
   ],
   "source": [
    "feature, label = mnist_train[0]\n",
    "feature.shape, feature.dtype"
   ]
  },
  {
   "cell_type": "code",
   "execution_count": 42,
   "metadata": {},
   "outputs": [],
   "source": [
    "def show_fashion_images(images):\n",
    "    _, figs = gb.plt.subplots(1, len(images), figsize=(15, 15))\n",
    "    for f, img in zip(figs, images):\n",
    "        f.imshow(img.reshape((28, 28)).asnumpy())\n",
    "        f.axes.get_xaxis().set_visible(False)\n",
    "        f.axes.get_yaxis().set_visible(False)"
   ]
  },
  {
   "cell_type": "code",
   "execution_count": 43,
   "metadata": {},
   "outputs": [
    {
     "data": {
      "text/plain": [
       "(2, numpy.int32, dtype('int32'))"
      ]
     },
     "execution_count": 43,
     "metadata": {},
     "output_type": "execute_result"
    }
   ],
   "source": [
    "label, type(label), label.dtype"
   ]
  },
  {
   "cell_type": "code",
   "execution_count": 44,
   "metadata": {},
   "outputs": [],
   "source": [
    "def get_text_labels(labels):\n",
    "    \"\"\"\n",
    "    convert int value of labels to text_labels.\n",
    "    \"\"\"\n",
    "    text_labels = ['t-shirt', 'trouser', 'pullover', 'dress', 'coat', 'sandal', 'shirt', 'sneaker', 'bag', 'ankle boot']\n",
    "    return [text_labels[i] for i in labels]"
   ]
  },
  {
   "cell_type": "code",
   "execution_count": 45,
   "metadata": {},
   "outputs": [
    {
     "name": "stdout",
     "output_type": "stream",
     "text": [
      "['pullover', 'ankle boot', 'shirt', 't-shirt', 'dress', 'coat', 'coat', 'sandal', 'coat']\n"
     ]
    },
    {
     "data": {
      "image/png": "[encoded data removed]",
      "text/plain": [
       "<Figure size 1080x1080 with 9 Axes>"
      ]
     },
     "metadata": {
      "image/png": {
       "height": 96,
       "width": 854
      }
     },
     "output_type": "display_data"
    }
   ],
   "source": [
    "X, y = mnist_train[0:9]\n",
    "show_fashion_images(X)\n",
    "print(get_text_labels(y))"
   ]
  },
  {
   "cell_type": "code",
   "execution_count": 46,
   "metadata": {},
   "outputs": [],
   "source": [
    "batch_size = 256\n",
    "transformer = gdata.vision.transforms.ToTensor()\n",
    "num_workers = 0 if sys.platform.startswith('win32') else 4\n",
    "train_iter = gdata.DataLoader(mnist_train.transform_first(transformer), \n",
    "                             batch_size, shuffle=True,\n",
    "                             num_workers=num_workers)\n",
    "test_iter = gdata.DataLoader(mnist_test.transform_first(transformer), \n",
    "                             batch_size, shuffle=False,\n",
    "                             num_workers=num_workers)"
   ]
  },
  {
   "cell_type": "code",
   "execution_count": 47,
   "metadata": {},
   "outputs": [],
   "source": [
    "num_inputs = 784\n",
    "num_outputs = 10\n",
    "\n",
    "W = nd.random.normal(scale=0.01, shape=(num_inputs, num_outputs))\n",
    "b = nd.zeros(num_outputs)\n",
    "params = [W, b]\n",
    "for param in params:\n",
    "    param.attach_grad()"
   ]
  },
  {
   "cell_type": "code",
   "execution_count": 48,
   "metadata": {},
   "outputs": [
    {
     "data": {
      "text/plain": [
       "(\n",
       " [[5. 7. 9.]]\n",
       " <NDArray 1x3 @cpu(0)>, \n",
       " [[ 6.]\n",
       "  [15.]]\n",
       " <NDArray 2x1 @cpu(0)>)"
      ]
     },
     "execution_count": 48,
     "metadata": {},
     "output_type": "execute_result"
    }
   ],
   "source": [
    "# define softmax\n",
    "X = nd.arange(1, 7).reshape((2, 3))\n",
    "X.sum(axis=0, keepdims=True), X.sum(axis=1, keepdims=True)"
   ]
  },
  {
   "cell_type": "code",
   "execution_count": 49,
   "metadata": {},
   "outputs": [],
   "source": [
    "def softmax(X):\n",
    "    \"\"\"\n",
    "    for X by exp(), then sum by row, divide by sum of row to get probablity for each category\n",
    "    \"\"\"\n",
    "    exp = X.exp()\n",
    "    partition = exp.sum(axis=1, keepdims=True)\n",
    "    # using boardcasting to get probablity for each category\n",
    "    return exp / partition"
   ]
  },
  {
   "cell_type": "code",
   "execution_count": 50,
   "metadata": {
    "scrolled": true
   },
   "outputs": [
    {
     "data": {
      "text/plain": [
       "(\n",
       " [[0.12868445 0.4000695  0.16477084 0.19418511 0.11229011]\n",
       "  [0.20525149 0.10493325 0.2046649  0.16769232 0.317458  ]]\n",
       " <NDArray 2x5 @cpu(0)>, \n",
       " [1.         0.99999994]\n",
       " <NDArray 2 @cpu(0)>)"
      ]
     },
     "execution_count": 50,
     "metadata": {},
     "output_type": "execute_result"
    }
   ],
   "source": [
    "X = nd.random.normal(shape=(2, 5))\n",
    "X_prob = softmax(X)\n",
    "X_prob, X_prob.sum(axis=1)"
   ]
  },
  {
   "cell_type": "code",
   "execution_count": 51,
   "metadata": {},
   "outputs": [],
   "source": [
    "# define model\n",
    "def net(X):\n",
    "    return softmax(nd.dot(X.reshape(-1, num_inputs), W) + b)"
   ]
  },
  {
   "cell_type": "code",
   "execution_count": 52,
   "metadata": {},
   "outputs": [
    {
     "data": {
      "text/plain": [
       "\n",
       "[0.1 0.5]\n",
       "<NDArray 2 @cpu(0)>"
      ]
     },
     "execution_count": 52,
     "metadata": {},
     "output_type": "execute_result"
    }
   ],
   "source": [
    "# define loss\n",
    "y_hat = nd.array([[0.1, 0.3, 0.6], [0.3, .2, .5]])\n",
    "y = nd.array([0, 2])\n",
    "nd.pick(y_hat, y)"
   ]
  },
  {
   "cell_type": "code",
   "execution_count": 53,
   "metadata": {},
   "outputs": [],
   "source": [
    "def cross_entropy(y_hat, y):\n",
    "    return -nd.pick(y_hat.log(), y)"
   ]
  },
  {
   "cell_type": "code",
   "execution_count": 54,
   "metadata": {},
   "outputs": [],
   "source": [
    "def accuracy(y_hat, y):\n",
    "    return (y_hat.argmax(axis=1) == y.astype('float32')).mean().asscalar()"
   ]
  },
  {
   "cell_type": "code",
   "execution_count": 55,
   "metadata": {},
   "outputs": [
    {
     "data": {
      "text/plain": [
       "0.5"
      ]
     },
     "execution_count": 55,
     "metadata": {},
     "output_type": "execute_result"
    }
   ],
   "source": [
    "accuracy(y_hat, y)"
   ]
  },
  {
   "cell_type": "code",
   "execution_count": 56,
   "metadata": {},
   "outputs": [],
   "source": [
    "def evaluate_accuarcy(data_iter, net):\n",
    "    acc = 0\n",
    "    for X, y in data_iter:\n",
    "        acc += accuracy(net(X), y)\n",
    "    return acc / len(data_iter)"
   ]
  },
  {
   "cell_type": "code",
   "execution_count": 57,
   "metadata": {},
   "outputs": [
    {
     "data": {
      "text/plain": [
       "0.08662109375"
      ]
     },
     "execution_count": 57,
     "metadata": {},
     "output_type": "execute_result"
    }
   ],
   "source": [
    "# as we randomize initial net, so it should be about 1 / num_ouputs = 0,1\n",
    "evaluate_accuarcy(test_iter, net)"
   ]
  },
  {
   "cell_type": "code",
   "execution_count": 58,
   "metadata": {},
   "outputs": [],
   "source": [
    "# training model\n",
    "num_epochs = 5\n",
    "lr = 0.1\n",
    "loss = cross_entropy\n",
    "\n",
    "def train_ch3(net, train_iter, test_iter, loss, num_epochs, batch_size, params=None, lr=None, trainer=None):\n",
    "    for epoch in range(1, num_epochs + 1):\n",
    "        train_l_sum = 0\n",
    "        train_acc_sum = 0\n",
    "        for X, y in train_iter:\n",
    "            with autograd.record():\n",
    "                y_hat = net(X)\n",
    "                l = loss(y_hat, y)\n",
    "            l.backward()\n",
    "            if trainer is None:\n",
    "                gb.sgd(params, lr, batch_size)\n",
    "            else:\n",
    "                trainer.step(batch_size)\n",
    "            train_l_sum += l.mean().asscalar()\n",
    "            train_acc_sum += accuracy(y_hat, y)\n",
    "        test_acc = evaluate_accuarcy(test_iter, net)\n",
    "        print(\"epoch %d, loss %.4f, train acc %.3f, test acc %.3f\" % (epoch, train_l_sum / len(train_iter),\n",
    "                                                                     train_acc_sum / len(train_iter), test_acc))"
   ]
  },
  {
   "cell_type": "code",
   "execution_count": 59,
   "metadata": {},
   "outputs": [
    {
     "name": "stdout",
     "output_type": "stream",
     "text": [
      "epoch 1, loss 0.7875, train acc 0.748, test acc 0.803\n",
      "epoch 2, loss 0.5727, train acc 0.812, test acc 0.826\n",
      "epoch 3, loss 0.5301, train acc 0.823, test acc 0.832\n",
      "epoch 4, loss 0.5051, train acc 0.831, test acc 0.833\n",
      "epoch 5, loss 0.4889, train acc 0.834, test acc 0.839\n"
     ]
    }
   ],
   "source": [
    "## why here will be \"Died Kernel\"?\n",
    "# issue : OpenBLAS : Program will terminate because you tried to start too many threads.\n",
    "# suggestion: \n",
    "# 1. install the latest First reinstall the latest version of openblas with openmp\n",
    "# 2. https://discuss.gluon.ai/t/topic/7858\n",
    "train_ch3(net, train_iter, test_iter, loss, num_epochs, batch_size, params, lr)"
   ]
  },
  {
   "cell_type": "code",
   "execution_count": 60,
   "metadata": {},
   "outputs": [
    {
     "name": "stdout",
     "output_type": "stream",
     "text": [
      "labels: ['t-shirt', 'trouser', 'pullover', 'pullover', 'dress', 'pullover', 'bag', 'shirt', 'sandal']\n",
      "predictions: ['t-shirt', 'trouser', 'pullover', 'shirt', 'coat', 'shirt', 'bag', 'shirt', 'sandal']\n"
     ]
    },
    {
     "data": {
      "image/png": "[encoded data removed]",
      "text/plain": [
       "<Figure size 1080x1080 with 9 Axes>"
      ]
     },
     "metadata": {
      "image/png": {
       "height": 96,
       "width": 854
      }
     },
     "output_type": "display_data"
    }
   ],
   "source": [
    "# prediction\n",
    "data, label = mnist_test[0:9]\n",
    "show_fashion_images(data)\n",
    "print('labels:', get_text_labels(label))\n",
    "# bug: TypeError: list indices must be integers or slices, not numpy.float32\n",
    "# predict_labels = [net(transformer(x)).argmax(axis=1).asscalar() for x in data]\n",
    "predict_labels = [net(transformer(x)).argmax(axis=1).astype('int32').asscalar() for x in data]\n",
    "print('predictions:', get_text_labels(predict_labels))"
   ]
  },
  {
   "cell_type": "markdown",
   "metadata": {},
   "source": [
    "## 6. Softmax Regression by Gluon\n",
    "\n",
    "page 59"
   ]
  },
  {
   "cell_type": "code",
   "execution_count": 61,
   "metadata": {},
   "outputs": [],
   "source": [
    "import gluonbook as gb\n",
    "from mxnet import gluon, init\n",
    "from mxnet.gluon import loss as gloss, nn"
   ]
  },
  {
   "cell_type": "code",
   "execution_count": 62,
   "metadata": {},
   "outputs": [],
   "source": [
    "batch_size = 256\n",
    "train_iter, test_iter = gb.load_data_fashion_mnist(batch_size)"
   ]
  },
  {
   "cell_type": "code",
   "execution_count": 63,
   "metadata": {},
   "outputs": [],
   "source": [
    "# model defintion\n",
    "net = nn.Sequential()\n",
    "net.add(nn.Flatten())\n",
    "net.add(nn.Dense(10))\n",
    "net.initialize(init.Normal(sigma=0.01))\n",
    "loss = gloss.SoftmaxCrossEntropyLoss()"
   ]
  },
  {
   "cell_type": "code",
   "execution_count": 64,
   "metadata": {},
   "outputs": [],
   "source": [
    "trainer = gluon.Trainer(net.collect_params(), 'sgd', {'learning_rate': 0.1})"
   ]
  },
  {
   "cell_type": "code",
   "execution_count": 65,
   "metadata": {},
   "outputs": [
    {
     "name": "stdout",
     "output_type": "stream",
     "text": [
      "epoch 1, loss 0.7881, train acc 0.748, test acc 0.786\n",
      "epoch 2, loss 0.5732, train acc 0.811, test acc 0.827\n",
      "epoch 3, loss 0.5277, train acc 0.824, test acc 0.831\n",
      "epoch 4, loss 0.5052, train acc 0.830, test acc 0.838\n",
      "epoch 5, loss 0.4900, train acc 0.834, test acc 0.837\n"
     ]
    }
   ],
   "source": [
    "num_epochs = 5\n",
    "gb.train_ch3(net, train_iter, test_iter, loss, num_epochs, batch_size, None, None, trainer)"
   ]
  },
  {
   "cell_type": "code",
   "execution_count": 66,
   "metadata": {},
   "outputs": [
    {
     "name": "stdout",
     "output_type": "stream",
     "text": [
      "labels: ['t-shirt', 'trouser', 'pullover', 'pullover', 'dress', 'pullover', 'bag', 'shirt', 'sandal']\n",
      "predictions: ['t-shirt', 'trouser', 'pullover', 'shirt', 'coat', 'shirt', 'bag', 'shirt', 'sandal']\n"
     ]
    },
    {
     "data": {
      "image/png": "[encoded data removed]",
      "text/plain": [
       "<Figure size 1080x1080 with 9 Axes>"
      ]
     },
     "metadata": {
      "image/png": {
       "height": 96,
       "width": 854
      }
     },
     "output_type": "display_data"
    }
   ],
   "source": [
    "# prediction\n",
    "data, label = mnist_test[0:9]\n",
    "show_fashion_images(data)\n",
    "print('labels:', get_text_labels(label))\n",
    "# bug: TypeError: list indices must be integers or slices, not numpy.float32\n",
    "# predict_labels = [net(transformer(x)).argmax(axis=1).asscalar() for x in data]\n",
    "predict_labels = [net(transformer(x)).argmax(axis=1).astype('int32').asscalar() for x in data]\n",
    "print('predictions:', get_text_labels(predict_labels))"
   ]
  },
  {
   "cell_type": "code",
   "execution_count": null,
   "metadata": {},
   "outputs": [],
   "source": []
  }
 ],
 "metadata": {
  "kernelspec": {
   "display_name": "Python 3",
   "language": "python",
   "name": "python3"
  },
  "language_info": {
   "codemirror_mode": {
    "name": "ipython",
    "version": 3
   },
   "file_extension": ".py",
   "mimetype": "text/x-python",
   "name": "python",
   "nbconvert_exporter": "python",
   "pygments_lexer": "ipython3",
   "version": "3.6.6"
  }
 },
 "nbformat": 4,
 "nbformat_minor": 2
}
