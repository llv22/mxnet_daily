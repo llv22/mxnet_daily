{
 "cells": [
  {
   "cell_type": "code",
   "execution_count": 1,
   "metadata": {
    "_cell_guid": "b1076dfc-b9ad-4769-8c92-a6c4dae69d19",
    "_uuid": "8f2839f25d086af736a60e9eeb907d3b93b6e0e5"
   },
   "outputs": [
    {
     "name": "stderr",
     "output_type": "stream",
     "text": [
      "/Users/i058959/miniconda3/lib/python3.6/site-packages/h5py/__init__.py:36: FutureWarning: Conversion of the second argument of issubdtype from `float` to `np.floating` is deprecated. In future, it will be treated as `np.float64 == np.dtype(float).type`.\n",
      "  from ._conv import register_converters as _register_converters\n"
     ]
    },
    {
     "name": "stdout",
     "output_type": "stream",
     "text": [
      "mxnet version:  1.2.1\n",
      "['test.csv.gz', '.DS_Store', 'train.csv.gz']\n"
     ]
    }
   ],
   "source": [
    "# This Python 3 environment comes with many helpful analytics libraries installed\n",
    "# It is defined by the kaggle/python docker image: https://github.com/kaggle/docker-python\n",
    "# For example, here's several helpful packages to load in \n",
    "\n",
    "import numpy as np # linear algebra\n",
    "import pandas as pd # data processing, CSV file I/O (e.g. pd.read_csv)\n",
    "import mxnet as mx\n",
    "print(\"mxnet version: \", mx.__version__)\n",
    "from mxnet import autograd, init, gluon, nd\n",
    "from mxnet.gluon import data as gdata, loss as gloss, nn \n",
    "import numpy as np\n",
    "import pandas as pd\n",
    "\n",
    "%matplotlib inline\n",
    "\n",
    "# Input data files are available in the \"../input/\" directory.\n",
    "# For example, running this (by clicking run or pressing Shift+Enter) will list the files in the input directory\n",
    "\n",
    "import os\n",
    "ROOT_DIR = \"../input/house_predict\"\n",
    "print(os.listdir(ROOT_DIR))\n",
    "\n",
    "# Any results you write to the current directory are saved as output."
   ]
  },
  {
   "cell_type": "code",
   "execution_count": 2,
   "metadata": {
    "_cell_guid": "79c7e3d0-c299-4dcb-8224-4455121ee9b0",
    "_uuid": "d629ff2d2480ee46fbb7e2d37f6b5fab8052498a"
   },
   "outputs": [],
   "source": [
    "if os.path.exists('%s/train.csv' % (ROOT_DIR)):\n",
    "    # in case only csv here\n",
    "    train_data = pd.read_csv('%s/train.csv' % (ROOT_DIR))\n",
    "    test_data = pd.read_csv('%s/test.csv' % (ROOT_DIR))\n",
    "else:\n",
    "    # in case only csv.gz here\n",
    "    train_data = pd.read_csv('%s/train.csv.gz' % (ROOT_DIR), compression='gzip')\n",
    "    test_data = pd.read_csv('%s/test.csv.gz' % (ROOT_DIR), compression='gzip')"
   ]
  },
  {
   "cell_type": "code",
   "execution_count": 3,
   "metadata": {
    "_uuid": "9cc4ef3fca3f342b602e3336f0626132c9d31e84"
   },
   "outputs": [
    {
     "data": {
      "text/plain": [
       "(1460, 81)"
      ]
     },
     "execution_count": 3,
     "metadata": {},
     "output_type": "execute_result"
    }
   ],
   "source": [
    "train_data.shape"
   ]
  },
  {
   "cell_type": "code",
   "execution_count": 4,
   "metadata": {
    "_uuid": "341fc0199b81d01e9de3deaa602da6bb634c47a6"
   },
   "outputs": [
    {
     "data": {
      "text/plain": [
       "(1459, 80)"
      ]
     },
     "execution_count": 4,
     "metadata": {},
     "output_type": "execute_result"
    }
   ],
   "source": [
    "test_data.shape"
   ]
  },
  {
   "cell_type": "code",
   "execution_count": 5,
   "metadata": {
    "_uuid": "f7226e875acdf45c0d292b3cc4a0f71e3532d325"
   },
   "outputs": [
    {
     "data": {
      "text/html": [
       "<div>\n",
       "<style scoped>\n",
       "    .dataframe tbody tr th:only-of-type {\n",
       "        vertical-align: middle;\n",
       "    }\n",
       "\n",
       "    .dataframe tbody tr th {\n",
       "        vertical-align: top;\n",
       "    }\n",
       "\n",
       "    .dataframe thead th {\n",
       "        text-align: right;\n",
       "    }\n",
       "</style>\n",
       "<table border=\"1\" class=\"dataframe\">\n",
       "  <thead>\n",
       "    <tr style=\"text-align: right;\">\n",
       "      <th></th>\n",
       "      <th>Id</th>\n",
       "      <th>MSSubClass</th>\n",
       "      <th>MSZoning</th>\n",
       "      <th>LotFrontage</th>\n",
       "      <th>SaleType</th>\n",
       "      <th>SaleCondition</th>\n",
       "      <th>SalePrice</th>\n",
       "    </tr>\n",
       "  </thead>\n",
       "  <tbody>\n",
       "    <tr>\n",
       "      <th>0</th>\n",
       "      <td>1</td>\n",
       "      <td>60</td>\n",
       "      <td>RL</td>\n",
       "      <td>65.0</td>\n",
       "      <td>WD</td>\n",
       "      <td>Normal</td>\n",
       "      <td>208500</td>\n",
       "    </tr>\n",
       "    <tr>\n",
       "      <th>1</th>\n",
       "      <td>2</td>\n",
       "      <td>20</td>\n",
       "      <td>RL</td>\n",
       "      <td>80.0</td>\n",
       "      <td>WD</td>\n",
       "      <td>Normal</td>\n",
       "      <td>181500</td>\n",
       "    </tr>\n",
       "    <tr>\n",
       "      <th>2</th>\n",
       "      <td>3</td>\n",
       "      <td>60</td>\n",
       "      <td>RL</td>\n",
       "      <td>68.0</td>\n",
       "      <td>WD</td>\n",
       "      <td>Normal</td>\n",
       "      <td>223500</td>\n",
       "    </tr>\n",
       "    <tr>\n",
       "      <th>3</th>\n",
       "      <td>4</td>\n",
       "      <td>70</td>\n",
       "      <td>RL</td>\n",
       "      <td>60.0</td>\n",
       "      <td>WD</td>\n",
       "      <td>Abnorml</td>\n",
       "      <td>140000</td>\n",
       "    </tr>\n",
       "  </tbody>\n",
       "</table>\n",
       "</div>"
      ],
      "text/plain": [
       "   Id  MSSubClass MSZoning  LotFrontage SaleType SaleCondition  SalePrice\n",
       "0   1          60       RL         65.0       WD        Normal     208500\n",
       "1   2          20       RL         80.0       WD        Normal     181500\n",
       "2   3          60       RL         68.0       WD        Normal     223500\n",
       "3   4          70       RL         60.0       WD       Abnorml     140000"
      ]
     },
     "execution_count": 5,
     "metadata": {},
     "output_type": "execute_result"
    }
   ],
   "source": [
    "train_data.iloc[0:4, [0,1,2,3,-3,-2,-1]]"
   ]
  },
  {
   "cell_type": "code",
   "execution_count": 6,
   "metadata": {
    "_uuid": "87b06e937b4aeba81cce0b0498c165386eb6856a"
   },
   "outputs": [],
   "source": [
    "# id is just a identifier, so generate features of data\n",
    "all_features = pd.concat((train_data.iloc[:, 1:-1], test_data.iloc[:, 1:]))"
   ]
  },
  {
   "cell_type": "code",
   "execution_count": 7,
   "metadata": {
    "_kg_hide-input": false,
    "_kg_hide-output": false,
    "_uuid": "0e6f3d32343b0acc8b63c5919a68d46ffbc9e3d5"
   },
   "outputs": [],
   "source": [
    "# Normalization for non-object features - Numeric featue normalizatoin\n",
    "numeric_features = all_features.dtypes[all_features.dtypes != 'object'].index\n",
    "all_features[numeric_features] = all_features[numeric_features].apply(lambda x: (x - x.mean()) / (x.std()))\n",
    "all_features = all_features.fillna(all_features.mean())"
   ]
  },
  {
   "cell_type": "code",
   "execution_count": 8,
   "metadata": {
    "_uuid": "0ffd58dd3d1bd7e6049b614fb26ce8d23332b3ba"
   },
   "outputs": [
    {
     "data": {
      "text/plain": [
       "(2919, 79)"
      ]
     },
     "execution_count": 8,
     "metadata": {},
     "output_type": "execute_result"
    }
   ],
   "source": [
    "all_features.shape"
   ]
  },
  {
   "cell_type": "code",
   "execution_count": 9,
   "metadata": {
    "_uuid": "5fac1663f8f8ca5e392f7b0ec62b7afa3670bd58"
   },
   "outputs": [
    {
     "data": {
      "text/plain": [
       "(2919, 331)"
      ]
     },
     "execution_count": 9,
     "metadata": {},
     "output_type": "execute_result"
    }
   ],
   "source": [
    "# Convert discrete value to indictor feature\n",
    "# dummy_na=True 将 NaN 也当做合法的特征值并为其创建指示特征。 \n",
    "all_features = pd.get_dummies(all_features, dummy_na=True) \n",
    "all_features.shape"
   ]
  },
  {
   "cell_type": "code",
   "execution_count": 10,
   "metadata": {
    "_uuid": "b757a92db1e885eaef5844f134abee762714b5a5"
   },
   "outputs": [],
   "source": [
    "n_train = train_data.shape[0]\n",
    "train_features = nd.array(all_features[:n_train].values)\n",
    "test_features = nd.array(all_features[n_train:].values)\n",
    "train_labels = nd.array(train_data.SalePrice.values).reshape((-1, 1))"
   ]
  },
  {
   "cell_type": "code",
   "execution_count": 11,
   "metadata": {
    "_uuid": "ac24d2943d0805a171cdf95d590b8f1f30802074"
   },
   "outputs": [],
   "source": [
    "loss = gloss.L2Loss()\n",
    "def get_net():\n",
    "    \"\"\"\n",
    "    define network with house price for linear regression model.\n",
    "    \"\"\"\n",
    "    net = nn.Sequential() \n",
    "    net.add(nn.Dense(2048, activation='relu'), nn.Dense(1))\n",
    "#     net.add(nn.Dense(640, activation='relu'), nn.Dense(1))\n",
    "# Bug: not good effect\n",
    "#     net.add(nn.Dense(512), nn.LeakyReLU(0.1), nn.Dense(1))\n",
    "#     net.add(nn.Dense(512, activation='relu'), nn.Dense(1))\n",
    "#     net.add(nn.Dense(1))\n",
    "    net.initialize() \n",
    "    return net"
   ]
  },
  {
   "cell_type": "code",
   "execution_count": 12,
   "metadata": {
    "_uuid": "d2af981ab2f592a06565e0045d4f3f33785f3197"
   },
   "outputs": [],
   "source": [
    "def log_rmse(net, train_features, train_labels): \n",
    "    # 将小于 1 的预测值设成 1，使得取对数时数值更稳定。\n",
    "    clipped_preds = nd.clip(net(train_features), 1, float('inf'))\n",
    "    rmse = nd.sqrt(2 * loss(clipped_preds.log(), train_labels.log()).mean()) \n",
    "    return rmse.asscalar()"
   ]
  },
  {
   "cell_type": "code",
   "execution_count": 13,
   "metadata": {
    "_uuid": "a0b346f6c51a2b93077bbbebc30f3c48d68f3f8c"
   },
   "outputs": [],
   "source": [
    "def train(net, train_features, train_labels, test_features, test_labels, num_epochs, learning_rate, weight_decay, batch_size):\n",
    "    train_ls, test_ls = [], []\n",
    "    train_iter = gdata.DataLoader(gdata.ArrayDataset(train_features, train_labels), batch_size, shuffle=True) # 这里使用了 Adam 优化算法。\n",
    "    trainer = gluon.Trainer(net.collect_params(), 'adam', {'learning_rate': learning_rate, 'wd': weight_decay}) \n",
    "    for epoch in range(num_epochs):\n",
    "        for X, y in train_iter: \n",
    "            with autograd.record(): \n",
    "                l = loss(net(X), y)\n",
    "            l.backward()\n",
    "        trainer.step(batch_size)\n",
    "        train_ls.append(log_rmse(net, train_features, train_labels)) \n",
    "        if test_labels is not None:\n",
    "            test_ls.append(log_rmse(net, test_features, test_labels)) \n",
    "    return train_ls, test_ls"
   ]
  },
  {
   "cell_type": "code",
   "execution_count": 14,
   "metadata": {
    "_uuid": "18f1aa09812051069840d5d8e7665d1626b51d82"
   },
   "outputs": [],
   "source": [
    "def get_k_fold_data(k, i, X, y): \n",
    "    assert k > 1\n",
    "    fold_size = X.shape[0] // k \n",
    "    X_train, y_train = None, None \n",
    "    for j in range(k):\n",
    "        idx = slice(j * fold_size, (j + 1) * fold_size) \n",
    "        X_part, y_part = X[idx, :], y[idx]\n",
    "        if j == i:\n",
    "            X_test, y_test = X_part, y_part \n",
    "        elif X_train is None:\n",
    "            X_train, y_train = X_part, y_part \n",
    "        else:\n",
    "            X_train = nd.concat(X_train, X_part, dim=0)\n",
    "            y_train = nd.concat(y_train, y_part, dim=0) \n",
    "    return X_train, y_train, X_test, y_test"
   ]
  },
  {
   "cell_type": "code",
   "execution_count": 15,
   "metadata": {
    "_uuid": "3c5ecca00e4734d6be77072500b4ba521c95934a"
   },
   "outputs": [],
   "source": [
    "from IPython import display\n",
    "from matplotlib import pyplot as plt\n",
    "\n",
    "def semilogy(x_vals, y_vals, x_label, y_label, x2_vals=None, y2_vals=None,\n",
    "             legend=None, figsize=(3.5, 2.5)):\n",
    "    \"\"\"\n",
    "    Plot x and log(y).\n",
    "    Access link - https://github.com/mli/gluon-tutorials-zh/tree/master/gluonbook/utils.py\n",
    "    \"\"\"\n",
    "    set_figsize(figsize)\n",
    "    plt.xlabel(x_label)\n",
    "    plt.ylabel(y_label)\n",
    "    plt.semilogy(x_vals, y_vals)\n",
    "    if x2_vals and y2_vals:\n",
    "        plt.semilogy(x2_vals, y2_vals, linestyle=':')\n",
    "        plt.legend(legend)\n",
    "    plt.show()\n",
    "\n",
    "def set_figsize(figsize=(3.5, 2.5)):\n",
    "    \"\"\"\n",
    "    Set matplotlib figure size.\n",
    "    Access link - https://github.com/mli/gluon-tutorials-zh/tree/master/gluonbook/utils.py\n",
    "    \"\"\"\n",
    "    use_svg_display()\n",
    "    plt.rcParams['figure.figsize'] = figsize\n",
    "\n",
    "def use_svg_display():\n",
    "    \"\"\"\n",
    "    Use svg format to display plot in jupyter.\n",
    "    Access link - https://github.com/mli/gluon-tutorials-zh/tree/master/gluonbook/utils.py\n",
    "    \"\"\"\n",
    "    display.set_matplotlib_formats('svg')"
   ]
  },
  {
   "cell_type": "code",
   "execution_count": null,
   "metadata": {
    "_uuid": "b366527f29de5cf22f254d44275a997b399068b2"
   },
   "outputs": [],
   "source": [
    "def k_fold(k, X_train, y_train, num_epochs,learning_rate, weight_decay, batch_size): \n",
    "    train_l_sum, test_l_sum = 0, 0\n",
    "    for i in range(k):\n",
    "        data = get_k_fold_data(k, i, X_train, y_train)\n",
    "        net = get_net()\n",
    "        train_ls, test_ls = train(net, *data, num_epochs, learning_rate, weight_decay, batch_size)\n",
    "        train_l_sum += train_ls[-1]\n",
    "        test_l_sum += test_ls[-1] \n",
    "        if i == 0:\n",
    "            semilogy(range(1, num_epochs+1), train_ls, 'epochs', 'rmse', range(1, num_epochs+1), test_ls, ['train', 'test'])\n",
    "        print('fold %d, train rmse: %f, test rmse: %f' % ( i, train_ls[-1], test_ls[-1]))\n",
    "    return train_l_sum / k, test_l_sum / k"
   ]
  },
  {
   "cell_type": "code",
   "execution_count": null,
   "metadata": {
    "_uuid": "7591460665f645b23870621676f49c4dfe920f94"
   },
   "outputs": [],
   "source": [
    "k = 5\n",
    "num_epochs = 400\n",
    "verbose_epoch = num_epochs - 2\n",
    "lr = 0.1\n",
    "weight_decay = 10\n",
    "batch_size = 1024\n",
    "train_l, test_l = k_fold(k, train_features, train_labels, num_epochs, lr, weight_decay, batch_size)\n",
    "print('%d-fold validation: avg train rmse: %f, avg test rmse: %f' % (k, train_l, test_l))"
   ]
  },
  {
   "cell_type": "code",
   "execution_count": null,
   "metadata": {
    "_uuid": "067932070c3f5c0ae8ad3ddf65035ef6f9f94e5a"
   },
   "outputs": [],
   "source": [
    "def train_and_pred(train_features, test_feature, train_labels, test_data, num_epochs, lr, weight_decay, batch_size):\n",
    "    net = get_net()\n",
    "    train_ls, _ = train(net, train_features, train_labels, None, None, num_epochs, lr, weight_decay, batch_size)\n",
    "    semilogy(range(1, num_epochs+1), train_ls, 'epochs', 'rmse')\n",
    "    print('train rmse %f' % train_ls[-1])\n",
    "    preds = net(test_features).asnumpy()\n",
    "    test_data['SalePrice'] = pd.Series(preds.reshape(1, -1)[0])\n",
    "    submission = pd.concat([test_data['Id'], test_data['SalePrice']], axis=1)\n",
    "    submission.to_csv('submission.csv', index=False)"
   ]
  },
  {
   "cell_type": "code",
   "execution_count": null,
   "metadata": {
    "_uuid": "c8e9bbec6ba7c043beee20ff95d617a75a9e3a16"
   },
   "outputs": [],
   "source": [
    "train_and_pred(train_features, test_features, train_labels, test_data, num_epochs, lr, weight_decay, batch_size)"
   ]
  },
  {
   "cell_type": "markdown",
   "metadata": {},
   "source": [
    "### Competition Result\n",
    "\n",
    "#### 1. House Price\n",
    "URL - https://www.kaggle.com/c/house-prices-advanced-regression-techniques\n",
    "\n",
    "#### 2. Parameter initializer\n",
    "Default initializer - [Block](https://github.com/apache/incubator-mxnet/blob/master/python/mxnet/gluon/block.py#L486) via (Line 486 of ctor of nn.Block via init=initializer.Uniform())\n",
    "\n",
    "#### 3. Result for current setting\n",
    "| Version | Submission Time | Author | Script | Evaluation Point |\n",
    "|:-------------:|:--------------:|:---------------:|:------------------------:|:-------:|\n",
    "| Version 10/18 | 2018-08-31 18:30 |  Orlando Ding   | [\"housePrice\" 5428530](https://www.kaggle.com/orlando23/houseprice?scriptVersionId=5428530) | 0.12092 |\n",
    "| Version 18/18 | 2018-09-01 11:30 |  Orlando Ding   | [\"housePrice\" 5441110](https://www.kaggle.com/orlando23/houseprice?scriptVersionId=5441110) | 0.12404 |"
   ]
  },
  {
   "cell_type": "code",
   "execution_count": null,
   "metadata": {},
   "outputs": [],
   "source": []
  }
 ],
 "metadata": {
  "kernelspec": {
   "display_name": "Python 3",
   "language": "python",
   "name": "python3"
  },
  "language_info": {
   "codemirror_mode": {
    "name": "ipython",
    "version": 3
   },
   "file_extension": ".py",
   "mimetype": "text/x-python",
   "name": "python",
   "nbconvert_exporter": "python",
   "pygments_lexer": "ipython3",
   "version": "3.6.6"
  }
 },
 "nbformat": 4,
 "nbformat_minor": 1
}
